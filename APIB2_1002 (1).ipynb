{
 "cells": [
  {
   "cell_type": "code",
   "execution_count": 2,
   "id": "a580bfe6",
   "metadata": {},
   "outputs": [],
   "source": [
    "import pandas as pd\n",
    "import numpy as np\n",
    "import seaborn as sns"
   ]
  },
  {
   "cell_type": "markdown",
   "id": "d606c676",
   "metadata": {},
   "source": [
    "# Import and read data"
   ]
  },
  {
   "cell_type": "code",
   "execution_count": 3,
   "id": "e689fc81",
   "metadata": {},
   "outputs": [],
   "source": [
    "data=pd.read_csv(\"C:\\\\Users\\\\acer\\\\Downloads\\\\DP_continuation - Sheet1.csv\")"
   ]
  },
  {
   "cell_type": "code",
   "execution_count": 4,
   "id": "f40dd6fb",
   "metadata": {},
   "outputs": [
    {
     "data": {
      "text/html": [
       "<div>\n",
       "<style scoped>\n",
       "    .dataframe tbody tr th:only-of-type {\n",
       "        vertical-align: middle;\n",
       "    }\n",
       "\n",
       "    .dataframe tbody tr th {\n",
       "        vertical-align: top;\n",
       "    }\n",
       "\n",
       "    .dataframe thead th {\n",
       "        text-align: right;\n",
       "    }\n",
       "</style>\n",
       "<table border=\"1\" class=\"dataframe\">\n",
       "  <thead>\n",
       "    <tr style=\"text-align: right;\">\n",
       "      <th></th>\n",
       "      <th>clientsid</th>\n",
       "      <th>Gender</th>\n",
       "      <th>CountyOfBirth</th>\n",
       "      <th>Age</th>\n",
       "      <th>EntryPoint</th>\n",
       "      <th>ReferredOrTransferredFrom</th>\n",
       "      <th>InitialVisitDate</th>\n",
       "      <th>BP</th>\n",
       "      <th>Weight_</th>\n",
       "      <th>Height</th>\n",
       "      <th>SignOfSti</th>\n",
       "      <th>Lmp</th>\n",
       "      <th>Cluster</th>\n",
       "      <th>FacilityType</th>\n",
       "      <th>Received_DP</th>\n",
       "      <th>Refill1month</th>\n",
       "      <th>Refill2months</th>\n",
       "      <th>Refill3months</th>\n",
       "      <th>Refill6months</th>\n",
       "      <th>received_counseling</th>\n",
       "    </tr>\n",
       "  </thead>\n",
       "  <tbody>\n",
       "    <tr>\n",
       "      <th>0</th>\n",
       "      <td>10269-07-1/18</td>\n",
       "      <td>M</td>\n",
       "      <td>Kisii</td>\n",
       "      <td>38</td>\n",
       "      <td>Referred</td>\n",
       "      <td>VCT Site</td>\n",
       "      <td>2018-03-14</td>\n",
       "      <td>113/82</td>\n",
       "      <td>68.0</td>\n",
       "      <td>172.0</td>\n",
       "      <td>No</td>\n",
       "      <td>1900-01-01</td>\n",
       "      <td>Nairobi</td>\n",
       "      <td>Public</td>\n",
       "      <td>1</td>\n",
       "      <td>1</td>\n",
       "      <td>1</td>\n",
       "      <td>1</td>\n",
       "      <td>1</td>\n",
       "      <td>0</td>\n",
       "    </tr>\n",
       "    <tr>\n",
       "      <th>1</th>\n",
       "      <td>10269-07-2/18</td>\n",
       "      <td>F</td>\n",
       "      <td>Meru</td>\n",
       "      <td>44</td>\n",
       "      <td>Referred</td>\n",
       "      <td>VCT Site</td>\n",
       "      <td>2018-04-11</td>\n",
       "      <td>120/84</td>\n",
       "      <td>102.0</td>\n",
       "      <td>168.0</td>\n",
       "      <td>No</td>\n",
       "      <td>1900-01-01</td>\n",
       "      <td>Nairobi</td>\n",
       "      <td>Public</td>\n",
       "      <td>1</td>\n",
       "      <td>1</td>\n",
       "      <td>1</td>\n",
       "      <td>1</td>\n",
       "      <td>0</td>\n",
       "      <td>1</td>\n",
       "    </tr>\n",
       "    <tr>\n",
       "      <th>2</th>\n",
       "      <td>10269-07-3/18</td>\n",
       "      <td>M</td>\n",
       "      <td>Kiambu</td>\n",
       "      <td>40</td>\n",
       "      <td>Referred</td>\n",
       "      <td>Outreach</td>\n",
       "      <td>2018-04-04</td>\n",
       "      <td>113/84</td>\n",
       "      <td>0.0</td>\n",
       "      <td>0.0</td>\n",
       "      <td>No</td>\n",
       "      <td>1900-01-01</td>\n",
       "      <td>Nairobi</td>\n",
       "      <td>Public</td>\n",
       "      <td>1</td>\n",
       "      <td>1</td>\n",
       "      <td>1</td>\n",
       "      <td>1</td>\n",
       "      <td>0</td>\n",
       "      <td>1</td>\n",
       "    </tr>\n",
       "    <tr>\n",
       "      <th>3</th>\n",
       "      <td>10269-07-4/18</td>\n",
       "      <td>M</td>\n",
       "      <td>Bungoma</td>\n",
       "      <td>24</td>\n",
       "      <td>Referred</td>\n",
       "      <td>VCT Site</td>\n",
       "      <td>2018-04-11</td>\n",
       "      <td>000/00</td>\n",
       "      <td>0.0</td>\n",
       "      <td>0.0</td>\n",
       "      <td>No</td>\n",
       "      <td>1900-01-01</td>\n",
       "      <td>Nairobi</td>\n",
       "      <td>Public</td>\n",
       "      <td>1</td>\n",
       "      <td>1</td>\n",
       "      <td>1</td>\n",
       "      <td>0</td>\n",
       "      <td>0</td>\n",
       "      <td>1</td>\n",
       "    </tr>\n",
       "    <tr>\n",
       "      <th>4</th>\n",
       "      <td>10269-07-5/18</td>\n",
       "      <td>F</td>\n",
       "      <td>Kiambu</td>\n",
       "      <td>31</td>\n",
       "      <td>Referred</td>\n",
       "      <td>VCT Site</td>\n",
       "      <td>2018-05-13</td>\n",
       "      <td>000/00</td>\n",
       "      <td>75.5</td>\n",
       "      <td>759.5</td>\n",
       "      <td>No</td>\n",
       "      <td>2018-04-01</td>\n",
       "      <td>Nairobi</td>\n",
       "      <td>Public</td>\n",
       "      <td>1</td>\n",
       "      <td>1</td>\n",
       "      <td>0</td>\n",
       "      <td>0</td>\n",
       "      <td>0</td>\n",
       "      <td>1</td>\n",
       "    </tr>\n",
       "  </tbody>\n",
       "</table>\n",
       "</div>"
      ],
      "text/plain": [
       "       clientsid Gender CountyOfBirth  Age EntryPoint  \\\n",
       "0  10269-07-1/18      M         Kisii   38   Referred   \n",
       "1  10269-07-2/18      F          Meru   44   Referred   \n",
       "2  10269-07-3/18      M        Kiambu   40   Referred   \n",
       "3  10269-07-4/18      M       Bungoma   24   Referred   \n",
       "4  10269-07-5/18      F        Kiambu   31   Referred   \n",
       "\n",
       "  ReferredOrTransferredFrom InitialVisitDate      BP  Weight_  Height  \\\n",
       "0                  VCT Site       2018-03-14  113/82     68.0   172.0   \n",
       "1                  VCT Site       2018-04-11  120/84    102.0   168.0   \n",
       "2                  Outreach       2018-04-04  113/84      0.0     0.0   \n",
       "3                  VCT Site       2018-04-11  000/00      0.0     0.0   \n",
       "4                  VCT Site       2018-05-13  000/00     75.5   759.5   \n",
       "\n",
       "  SignOfSti         Lmp  Cluster FacilityType  Received_DP  Refill1month  \\\n",
       "0        No  1900-01-01  Nairobi       Public            1             1   \n",
       "1        No  1900-01-01  Nairobi       Public            1             1   \n",
       "2        No  1900-01-01  Nairobi       Public            1             1   \n",
       "3        No  1900-01-01  Nairobi       Public            1             1   \n",
       "4        No  2018-04-01  Nairobi       Public            1             1   \n",
       "\n",
       "   Refill2months  Refill3months  Refill6months  received_counseling  \n",
       "0              1              1              1                    0  \n",
       "1              1              1              0                    1  \n",
       "2              1              1              0                    1  \n",
       "3              1              0              0                    1  \n",
       "4              0              0              0                    1  "
      ]
     },
     "execution_count": 4,
     "metadata": {},
     "output_type": "execute_result"
    }
   ],
   "source": [
    "data.head(5)"
   ]
  },
  {
   "cell_type": "code",
   "execution_count": 5,
   "id": "b7b1ee81",
   "metadata": {},
   "outputs": [
    {
     "data": {
      "text/html": [
       "<div>\n",
       "<style scoped>\n",
       "    .dataframe tbody tr th:only-of-type {\n",
       "        vertical-align: middle;\n",
       "    }\n",
       "\n",
       "    .dataframe tbody tr th {\n",
       "        vertical-align: top;\n",
       "    }\n",
       "\n",
       "    .dataframe thead th {\n",
       "        text-align: right;\n",
       "    }\n",
       "</style>\n",
       "<table border=\"1\" class=\"dataframe\">\n",
       "  <thead>\n",
       "    <tr style=\"text-align: right;\">\n",
       "      <th></th>\n",
       "      <th>clientsid</th>\n",
       "      <th>Gender</th>\n",
       "      <th>CountyOfBirth</th>\n",
       "      <th>Age</th>\n",
       "      <th>EntryPoint</th>\n",
       "      <th>ReferredOrTransferredFrom</th>\n",
       "      <th>InitialVisitDate</th>\n",
       "      <th>BP</th>\n",
       "      <th>Weight_</th>\n",
       "      <th>Height</th>\n",
       "      <th>SignOfSti</th>\n",
       "      <th>Lmp</th>\n",
       "      <th>Cluster</th>\n",
       "      <th>FacilityType</th>\n",
       "      <th>Received_DP</th>\n",
       "      <th>Refill1month</th>\n",
       "      <th>Refill2months</th>\n",
       "      <th>Refill3months</th>\n",
       "      <th>Refill6months</th>\n",
       "      <th>received_counseling</th>\n",
       "    </tr>\n",
       "  </thead>\n",
       "  <tbody>\n",
       "    <tr>\n",
       "      <th>22126</th>\n",
       "      <td>99999/2019/07014</td>\n",
       "      <td>F</td>\n",
       "      <td>Unknown</td>\n",
       "      <td>35</td>\n",
       "      <td>Referred</td>\n",
       "      <td>VCT Site</td>\n",
       "      <td>2017-11-17</td>\n",
       "      <td>112/63</td>\n",
       "      <td>76.0</td>\n",
       "      <td>162.0</td>\n",
       "      <td>No</td>\n",
       "      <td>1900-01-01</td>\n",
       "      <td>Nairobi</td>\n",
       "      <td>Dice</td>\n",
       "      <td>1</td>\n",
       "      <td>0</td>\n",
       "      <td>0</td>\n",
       "      <td>0</td>\n",
       "      <td>0</td>\n",
       "      <td>0</td>\n",
       "    </tr>\n",
       "    <tr>\n",
       "      <th>22127</th>\n",
       "      <td>99999/2019/07017</td>\n",
       "      <td>F</td>\n",
       "      <td>Unknown</td>\n",
       "      <td>41</td>\n",
       "      <td>Referred</td>\n",
       "      <td>VCT Site</td>\n",
       "      <td>2017-12-20</td>\n",
       "      <td>114/76</td>\n",
       "      <td>94.0</td>\n",
       "      <td>154.0</td>\n",
       "      <td>No</td>\n",
       "      <td>1900-01-01</td>\n",
       "      <td>Nairobi</td>\n",
       "      <td>Dice</td>\n",
       "      <td>1</td>\n",
       "      <td>0</td>\n",
       "      <td>0</td>\n",
       "      <td>0</td>\n",
       "      <td>0</td>\n",
       "      <td>1</td>\n",
       "    </tr>\n",
       "    <tr>\n",
       "      <th>22128</th>\n",
       "      <td>99999/2019/07018</td>\n",
       "      <td>F</td>\n",
       "      <td>Turkana</td>\n",
       "      <td>47</td>\n",
       "      <td>Referred</td>\n",
       "      <td>VCT Site</td>\n",
       "      <td>2017-11-24</td>\n",
       "      <td>109/54</td>\n",
       "      <td>60.0</td>\n",
       "      <td>168.0</td>\n",
       "      <td>No</td>\n",
       "      <td>1900-01-01</td>\n",
       "      <td>Nairobi</td>\n",
       "      <td>Dice</td>\n",
       "      <td>1</td>\n",
       "      <td>0</td>\n",
       "      <td>0</td>\n",
       "      <td>0</td>\n",
       "      <td>0</td>\n",
       "      <td>1</td>\n",
       "    </tr>\n",
       "    <tr>\n",
       "      <th>22129</th>\n",
       "      <td>99999/2019/07019</td>\n",
       "      <td>F</td>\n",
       "      <td>Meru</td>\n",
       "      <td>27</td>\n",
       "      <td>Referred</td>\n",
       "      <td>VCT Site</td>\n",
       "      <td>2017-04-03</td>\n",
       "      <td>154/84</td>\n",
       "      <td>47.0</td>\n",
       "      <td>159.0</td>\n",
       "      <td>No</td>\n",
       "      <td>1900-01-01</td>\n",
       "      <td>Nairobi</td>\n",
       "      <td>Dice</td>\n",
       "      <td>1</td>\n",
       "      <td>0</td>\n",
       "      <td>0</td>\n",
       "      <td>0</td>\n",
       "      <td>0</td>\n",
       "      <td>0</td>\n",
       "    </tr>\n",
       "    <tr>\n",
       "      <th>22130</th>\n",
       "      <td>99999/2019/07020</td>\n",
       "      <td>F</td>\n",
       "      <td>Kakamega</td>\n",
       "      <td>26</td>\n",
       "      <td>Referred</td>\n",
       "      <td>VCT Site</td>\n",
       "      <td>2017-04-18</td>\n",
       "      <td>109/62</td>\n",
       "      <td>51.0</td>\n",
       "      <td>163.0</td>\n",
       "      <td>No</td>\n",
       "      <td>1900-01-01</td>\n",
       "      <td>Nairobi</td>\n",
       "      <td>Dice</td>\n",
       "      <td>1</td>\n",
       "      <td>0</td>\n",
       "      <td>0</td>\n",
       "      <td>0</td>\n",
       "      <td>0</td>\n",
       "      <td>0</td>\n",
       "    </tr>\n",
       "  </tbody>\n",
       "</table>\n",
       "</div>"
      ],
      "text/plain": [
       "              clientsid Gender CountyOfBirth  Age EntryPoint  \\\n",
       "22126  99999/2019/07014      F       Unknown   35   Referred   \n",
       "22127  99999/2019/07017      F       Unknown   41   Referred   \n",
       "22128  99999/2019/07018      F       Turkana   47   Referred   \n",
       "22129  99999/2019/07019      F          Meru   27   Referred   \n",
       "22130  99999/2019/07020      F      Kakamega   26   Referred   \n",
       "\n",
       "      ReferredOrTransferredFrom InitialVisitDate      BP  Weight_  Height  \\\n",
       "22126                  VCT Site       2017-11-17  112/63     76.0   162.0   \n",
       "22127                  VCT Site       2017-12-20  114/76     94.0   154.0   \n",
       "22128                  VCT Site       2017-11-24  109/54     60.0   168.0   \n",
       "22129                  VCT Site       2017-04-03  154/84     47.0   159.0   \n",
       "22130                  VCT Site       2017-04-18  109/62     51.0   163.0   \n",
       "\n",
       "      SignOfSti         Lmp  Cluster FacilityType  Received_DP  Refill1month  \\\n",
       "22126        No  1900-01-01  Nairobi         Dice            1             0   \n",
       "22127        No  1900-01-01  Nairobi         Dice            1             0   \n",
       "22128        No  1900-01-01  Nairobi         Dice            1             0   \n",
       "22129        No  1900-01-01  Nairobi         Dice            1             0   \n",
       "22130        No  1900-01-01  Nairobi         Dice            1             0   \n",
       "\n",
       "       Refill2months  Refill3months  Refill6months  received_counseling  \n",
       "22126              0              0              0                    0  \n",
       "22127              0              0              0                    1  \n",
       "22128              0              0              0                    1  \n",
       "22129              0              0              0                    0  \n",
       "22130              0              0              0                    0  "
      ]
     },
     "execution_count": 5,
     "metadata": {},
     "output_type": "execute_result"
    }
   ],
   "source": [
    "data.tail()"
   ]
  },
  {
   "cell_type": "markdown",
   "id": "49cef52e",
   "metadata": {},
   "source": [
    "# Data exploration"
   ]
  },
  {
   "cell_type": "code",
   "execution_count": 6,
   "id": "e8c3546c",
   "metadata": {},
   "outputs": [
    {
     "data": {
      "text/plain": [
       "clientsid                    0.000000\n",
       "Gender                       0.000000\n",
       "CountyOfBirth                0.000000\n",
       "Age                          0.000000\n",
       "EntryPoint                   0.000000\n",
       "ReferredOrTransferredFrom    0.000000\n",
       "InitialVisitDate             0.000000\n",
       "BP                           1.387194\n",
       "Weight_                      0.528670\n",
       "Height                       0.528670\n",
       "SignOfSti                    0.528670\n",
       "Lmp                          0.528670\n",
       "Cluster                      0.000000\n",
       "FacilityType                 0.000000\n",
       "Received_DP                  0.000000\n",
       "Refill1month                 0.000000\n",
       "Refill2months                0.000000\n",
       "Refill3months                0.000000\n",
       "Refill6months                0.000000\n",
       "received_counseling          0.000000\n",
       "dtype: float64"
      ]
     },
     "execution_count": 6,
     "metadata": {},
     "output_type": "execute_result"
    }
   ],
   "source": [
    "#check for percentage of count of missing values of each variable\n",
    "data.isna().sum()*100/len(data)"
   ]
  },
  {
   "cell_type": "code",
   "execution_count": 7,
   "id": "b8e4a2fc",
   "metadata": {},
   "outputs": [
    {
     "name": "stdout",
     "output_type": "stream",
     "text": [
      "number of unique gender is: 3\n",
      "they are: ['F' 'M' 'TG']\n"
     ]
    }
   ],
   "source": [
    "print(\"number of unique gender is:\",data['Gender'].nunique())\n",
    "print(\"they are:\",np.unique(data['Gender'].values))"
   ]
  },
  {
   "cell_type": "code",
   "execution_count": 8,
   "id": "53c63c0e",
   "metadata": {},
   "outputs": [
    {
     "name": "stdout",
     "output_type": "stream",
     "text": [
      "number of unique counties is: 48\n",
      "they are: ['Baringo' 'Bomet' 'Bungoma' 'Busia' 'Elgeyo Marakwet' 'Embu' 'Garissa'\n",
      " 'Homa Bay' 'Isiolo' 'Kajiado' 'Kakamega' 'Kericho' 'Kiambu' 'Kilifi'\n",
      " 'Kirinyaga' 'Kisii' 'Kisumu' 'Kitui' 'Kwale' 'Laikipia' 'Lamu' 'Machakos'\n",
      " 'Makueni' 'Mandera' 'Marsabit' 'Meru' 'Migori' 'Mombasa' 'Muranga'\n",
      " 'Nairobi' 'Nakuru' 'Nandi' 'Narok' 'Nyamira' 'Nyandarua' 'Nyeri'\n",
      " 'Samburu' 'Siaya' 'Taita Taveta' 'Tana River' 'Tharaka Nithi'\n",
      " 'Trans Nzoia' 'Turkana' 'Uasin Gishu' 'Unknown' 'Vihiga' 'Wajir'\n",
      " 'West Pokot']\n"
     ]
    }
   ],
   "source": [
    "print(\"number of unique counties is:\",data['CountyOfBirth'].nunique())\n",
    "print(\"they are:\",np.unique(data['CountyOfBirth'].values))"
   ]
  },
  {
   "cell_type": "code",
   "execution_count": 9,
   "id": "16a2abc4",
   "metadata": {},
   "outputs": [
    {
     "name": "stdout",
     "output_type": "stream",
     "text": [
      "number of unique EntryPoint  is: 2\n",
      "they are: ['Referred' 'Transferred']\n"
     ]
    }
   ],
   "source": [
    "print(\"number of unique EntryPoint  is:\",data['EntryPoint'].nunique())\n",
    "print(\"they are:\",np.unique(data['EntryPoint'].values))"
   ]
  },
  {
   "cell_type": "code",
   "execution_count": 10,
   "id": "d8285fd2",
   "metadata": {},
   "outputs": [
    {
     "name": "stdout",
     "output_type": "stream",
     "text": [
      "number of unique ReferredOrTransferredFrom: 23\n",
      "they are: ['Bar Hostess Empowerment Support Program VCT - Jogoo Rd'\n",
      " 'Bomu Medical Centre (Likoni)' 'CCC' 'COMMUNITY' 'HBTC' 'IPD'\n",
      " 'Katito Health Centre' 'Kenyenya Health Centre' 'Liverpool VCT' 'MCH'\n",
      " 'Migosi Health Centre' 'OPD' 'OTHER' 'Outreach' 'Peer'\n",
      " 'Ruiru Sub-District Hospital' 'SELF-REFERRAL'\n",
      " 'Sex Workers Operation Project (Swop)' 'Swop Clinic' 'TB Clinic'\n",
      " 'Thika Level 5 Hospital' 'Thika Sasa Centre' 'VCT Site']\n"
     ]
    }
   ],
   "source": [
    "print(\"number of unique ReferredOrTransferredFrom:\", data['ReferredOrTransferredFrom'].nunique())\n",
    "print('they are:',np.unique(data['ReferredOrTransferredFrom'].values))"
   ]
  },
  {
   "cell_type": "code",
   "execution_count": 11,
   "id": "3f297d9d",
   "metadata": {},
   "outputs": [
    {
     "name": "stdout",
     "output_type": "stream",
     "text": [
      "number of distinct facility type is: 5\n",
      "they are: ['DICE' 'Dice' 'Private' 'Public' 'Public ']\n"
     ]
    }
   ],
   "source": [
    "print(\"number of distinct facility type is:\",data[\"FacilityType\"].nunique())\n",
    "print(\"they are:\",np.unique(data['FacilityType'].values))"
   ]
  },
  {
   "cell_type": "markdown",
   "id": "7737a8a8",
   "metadata": {},
   "source": [
    "data inconsistency DICE=dice and Public=Public "
   ]
  },
  {
   "cell_type": "code",
   "execution_count": 12,
   "id": "c02e0fe3",
   "metadata": {},
   "outputs": [
    {
     "name": "stdout",
     "output_type": "stream",
     "text": [
      "number of dinstinct clusters: 3\n",
      "they are: ['Coast' 'Lake' 'Nairobi']\n"
     ]
    }
   ],
   "source": [
    "print('number of dinstinct clusters:', data['Cluster'].nunique())\n",
    "print(\"they are:\",np.unique(data['Cluster'].values))"
   ]
  },
  {
   "cell_type": "code",
   "execution_count": 13,
   "id": "eb186c01",
   "metadata": {},
   "outputs": [
    {
     "data": {
      "text/plain": [
       "array([1], dtype=int64)"
      ]
     },
     "execution_count": 13,
     "metadata": {},
     "output_type": "execute_result"
    }
   ],
   "source": [
    "np.unique(data['Received_DP'].values)"
   ]
  },
  {
   "cell_type": "code",
   "execution_count": 14,
   "id": "2123a58d",
   "metadata": {},
   "outputs": [
    {
     "data": {
      "text/plain": [
       "array([0, 1], dtype=int64)"
      ]
     },
     "execution_count": 14,
     "metadata": {},
     "output_type": "execute_result"
    }
   ],
   "source": [
    "np.unique(data['Refill1month'].values)"
   ]
  },
  {
   "cell_type": "code",
   "execution_count": 15,
   "id": "e36fcf9b",
   "metadata": {},
   "outputs": [
    {
     "data": {
      "text/plain": [
       "array([0, 1], dtype=int64)"
      ]
     },
     "execution_count": 15,
     "metadata": {},
     "output_type": "execute_result"
    }
   ],
   "source": [
    "np.unique(data['Refill2months'].values)"
   ]
  },
  {
   "cell_type": "code",
   "execution_count": 16,
   "id": "6c98b499",
   "metadata": {},
   "outputs": [
    {
     "data": {
      "text/plain": [
       "array([0, 1], dtype=int64)"
      ]
     },
     "execution_count": 16,
     "metadata": {},
     "output_type": "execute_result"
    }
   ],
   "source": [
    "np.unique(data['Refill3months'].values)"
   ]
  },
  {
   "cell_type": "code",
   "execution_count": 17,
   "id": "022e14b0",
   "metadata": {},
   "outputs": [
    {
     "data": {
      "text/plain": [
       "array([0, 1], dtype=int64)"
      ]
     },
     "execution_count": 17,
     "metadata": {},
     "output_type": "execute_result"
    }
   ],
   "source": [
    "np.unique(data['Refill6months'].values)"
   ]
  },
  {
   "cell_type": "code",
   "execution_count": 18,
   "id": "b8530eb2",
   "metadata": {},
   "outputs": [
    {
     "data": {
      "text/plain": [
       "array([0, 1], dtype=int64)"
      ]
     },
     "execution_count": 18,
     "metadata": {},
     "output_type": "execute_result"
    }
   ],
   "source": [
    "np.unique(data['received_counseling'].values)"
   ]
  },
  {
   "cell_type": "code",
   "execution_count": 19,
   "id": "b20c4b82",
   "metadata": {},
   "outputs": [
    {
     "data": {
      "text/plain": [
       "count    22131.000000\n",
       "mean        27.284804\n",
       "std         10.644699\n",
       "min         15.000000\n",
       "25%         22.000000\n",
       "50%         25.000000\n",
       "75%         31.000000\n",
       "max        544.000000\n",
       "Name: Age, dtype: float64"
      ]
     },
     "execution_count": 19,
     "metadata": {},
     "output_type": "execute_result"
    }
   ],
   "source": [
    "data['Age'].describe()"
   ]
  },
  {
   "cell_type": "markdown",
   "id": "43c4b7c7",
   "metadata": {},
   "source": [
    "data entry error in age variable with maximum value as 544 years"
   ]
  },
  {
   "cell_type": "code",
   "execution_count": 20,
   "id": "084c4ceb",
   "metadata": {},
   "outputs": [
    {
     "data": {
      "text/html": [
       "<div>\n",
       "<style scoped>\n",
       "    .dataframe tbody tr th:only-of-type {\n",
       "        vertical-align: middle;\n",
       "    }\n",
       "\n",
       "    .dataframe tbody tr th {\n",
       "        vertical-align: top;\n",
       "    }\n",
       "\n",
       "    .dataframe thead th {\n",
       "        text-align: right;\n",
       "    }\n",
       "</style>\n",
       "<table border=\"1\" class=\"dataframe\">\n",
       "  <thead>\n",
       "    <tr style=\"text-align: right;\">\n",
       "      <th></th>\n",
       "      <th>clientsid</th>\n",
       "      <th>Gender</th>\n",
       "      <th>CountyOfBirth</th>\n",
       "      <th>Age</th>\n",
       "      <th>EntryPoint</th>\n",
       "      <th>ReferredOrTransferredFrom</th>\n",
       "      <th>InitialVisitDate</th>\n",
       "      <th>BP</th>\n",
       "      <th>Weight_</th>\n",
       "      <th>Height</th>\n",
       "      <th>SignOfSti</th>\n",
       "      <th>Lmp</th>\n",
       "      <th>Cluster</th>\n",
       "      <th>FacilityType</th>\n",
       "      <th>Received_DP</th>\n",
       "      <th>Refill1month</th>\n",
       "      <th>Refill2months</th>\n",
       "      <th>Refill3months</th>\n",
       "      <th>Refill6months</th>\n",
       "      <th>received_counseling</th>\n",
       "    </tr>\n",
       "  </thead>\n",
       "  <tbody>\n",
       "    <tr>\n",
       "      <th>801</th>\n",
       "      <td>12893-07-27/17</td>\n",
       "      <td>M</td>\n",
       "      <td>Kakamega</td>\n",
       "      <td>255</td>\n",
       "      <td>Referred</td>\n",
       "      <td>VCT Site</td>\n",
       "      <td>2017-10-02</td>\n",
       "      <td>98/56</td>\n",
       "      <td>61.0</td>\n",
       "      <td>0.0</td>\n",
       "      <td>No</td>\n",
       "      <td>1900-01-01</td>\n",
       "      <td>Nairobi</td>\n",
       "      <td>Public</td>\n",
       "      <td>1</td>\n",
       "      <td>1</td>\n",
       "      <td>1</td>\n",
       "      <td>1</td>\n",
       "      <td>1</td>\n",
       "      <td>1</td>\n",
       "    </tr>\n",
       "    <tr>\n",
       "      <th>1304</th>\n",
       "      <td>12956-03-48/18</td>\n",
       "      <td>M</td>\n",
       "      <td>Isiolo</td>\n",
       "      <td>288</td>\n",
       "      <td>Referred</td>\n",
       "      <td>VCT Site</td>\n",
       "      <td>2018-06-26</td>\n",
       "      <td>000/00</td>\n",
       "      <td>0.0</td>\n",
       "      <td>0.0</td>\n",
       "      <td>No</td>\n",
       "      <td>1900-01-01</td>\n",
       "      <td>Nairobi</td>\n",
       "      <td>Dice</td>\n",
       "      <td>1</td>\n",
       "      <td>1</td>\n",
       "      <td>1</td>\n",
       "      <td>1</td>\n",
       "      <td>1</td>\n",
       "      <td>1</td>\n",
       "    </tr>\n",
       "    <tr>\n",
       "      <th>3579</th>\n",
       "      <td>13468/2018/07136</td>\n",
       "      <td>M</td>\n",
       "      <td>Kisumu</td>\n",
       "      <td>386</td>\n",
       "      <td>Referred</td>\n",
       "      <td>CCC</td>\n",
       "      <td>2018-08-20</td>\n",
       "      <td>128/72</td>\n",
       "      <td>62.0</td>\n",
       "      <td>167.0</td>\n",
       "      <td>No</td>\n",
       "      <td>1900-01-01</td>\n",
       "      <td>Lake</td>\n",
       "      <td>Public</td>\n",
       "      <td>1</td>\n",
       "      <td>1</td>\n",
       "      <td>1</td>\n",
       "      <td>1</td>\n",
       "      <td>1</td>\n",
       "      <td>1</td>\n",
       "    </tr>\n",
       "    <tr>\n",
       "      <th>3585</th>\n",
       "      <td>13468/2018/07142</td>\n",
       "      <td>M</td>\n",
       "      <td>Kisumu</td>\n",
       "      <td>143</td>\n",
       "      <td>Referred</td>\n",
       "      <td>MCH</td>\n",
       "      <td>2018-12-03</td>\n",
       "      <td>112/70</td>\n",
       "      <td>62.0</td>\n",
       "      <td>156.0</td>\n",
       "      <td>No</td>\n",
       "      <td>1900-01-01</td>\n",
       "      <td>Lake</td>\n",
       "      <td>Public</td>\n",
       "      <td>1</td>\n",
       "      <td>1</td>\n",
       "      <td>1</td>\n",
       "      <td>1</td>\n",
       "      <td>1</td>\n",
       "      <td>1</td>\n",
       "    </tr>\n",
       "    <tr>\n",
       "      <th>3855</th>\n",
       "      <td>13492/2018/03177</td>\n",
       "      <td>M</td>\n",
       "      <td>Migori</td>\n",
       "      <td>233</td>\n",
       "      <td>Referred</td>\n",
       "      <td>VCT Site</td>\n",
       "      <td>2018-10-05</td>\n",
       "      <td>0</td>\n",
       "      <td>0.0</td>\n",
       "      <td>0.0</td>\n",
       "      <td>No</td>\n",
       "      <td>1900-01-01</td>\n",
       "      <td>Lake</td>\n",
       "      <td>Public</td>\n",
       "      <td>1</td>\n",
       "      <td>1</td>\n",
       "      <td>1</td>\n",
       "      <td>1</td>\n",
       "      <td>1</td>\n",
       "      <td>1</td>\n",
       "    </tr>\n",
       "    <tr>\n",
       "      <th>4279</th>\n",
       "      <td>13745/2018/07074</td>\n",
       "      <td>M</td>\n",
       "      <td>Migori</td>\n",
       "      <td>177</td>\n",
       "      <td>Referred</td>\n",
       "      <td>VCT Site</td>\n",
       "      <td>2018-12-04</td>\n",
       "      <td>133/89</td>\n",
       "      <td>60.0</td>\n",
       "      <td>161.0</td>\n",
       "      <td>No</td>\n",
       "      <td>1900-01-01</td>\n",
       "      <td>Lake</td>\n",
       "      <td>Public</td>\n",
       "      <td>1</td>\n",
       "      <td>1</td>\n",
       "      <td>1</td>\n",
       "      <td>1</td>\n",
       "      <td>1</td>\n",
       "      <td>1</td>\n",
       "    </tr>\n",
       "    <tr>\n",
       "      <th>4295</th>\n",
       "      <td>13805-03-109/18</td>\n",
       "      <td>M</td>\n",
       "      <td>Unknown</td>\n",
       "      <td>133</td>\n",
       "      <td>Referred</td>\n",
       "      <td>VCT Site</td>\n",
       "      <td>2017-11-30</td>\n",
       "      <td>0</td>\n",
       "      <td>0.0</td>\n",
       "      <td>0.0</td>\n",
       "      <td>No</td>\n",
       "      <td>1900-01-01</td>\n",
       "      <td>Lake</td>\n",
       "      <td>Public</td>\n",
       "      <td>1</td>\n",
       "      <td>1</td>\n",
       "      <td>1</td>\n",
       "      <td>1</td>\n",
       "      <td>1</td>\n",
       "      <td>1</td>\n",
       "    </tr>\n",
       "    <tr>\n",
       "      <th>4749</th>\n",
       "      <td>13831/2018/07001</td>\n",
       "      <td>M</td>\n",
       "      <td>Unknown</td>\n",
       "      <td>154</td>\n",
       "      <td>Referred</td>\n",
       "      <td>CCC</td>\n",
       "      <td>2018-04-05</td>\n",
       "      <td>138/87</td>\n",
       "      <td>75.0</td>\n",
       "      <td>175.0</td>\n",
       "      <td>No</td>\n",
       "      <td>1900-01-01</td>\n",
       "      <td>Lake</td>\n",
       "      <td>Public</td>\n",
       "      <td>1</td>\n",
       "      <td>1</td>\n",
       "      <td>1</td>\n",
       "      <td>1</td>\n",
       "      <td>1</td>\n",
       "      <td>1</td>\n",
       "    </tr>\n",
       "    <tr>\n",
       "      <th>4785</th>\n",
       "      <td>13831/2018/07037</td>\n",
       "      <td>F</td>\n",
       "      <td>Unknown</td>\n",
       "      <td>377</td>\n",
       "      <td>Referred</td>\n",
       "      <td>CCC</td>\n",
       "      <td>2017-11-29</td>\n",
       "      <td>0</td>\n",
       "      <td>56.0</td>\n",
       "      <td>157.0</td>\n",
       "      <td>No</td>\n",
       "      <td>1900-01-01</td>\n",
       "      <td>Lake</td>\n",
       "      <td>Public</td>\n",
       "      <td>1</td>\n",
       "      <td>1</td>\n",
       "      <td>1</td>\n",
       "      <td>1</td>\n",
       "      <td>1</td>\n",
       "      <td>1</td>\n",
       "    </tr>\n",
       "    <tr>\n",
       "      <th>4829</th>\n",
       "      <td>13831/2018/07081</td>\n",
       "      <td>M</td>\n",
       "      <td>Unknown</td>\n",
       "      <td>217</td>\n",
       "      <td>Referred</td>\n",
       "      <td>CCC</td>\n",
       "      <td>2017-11-29</td>\n",
       "      <td>0</td>\n",
       "      <td>56.0</td>\n",
       "      <td>157.0</td>\n",
       "      <td>No</td>\n",
       "      <td>1900-01-01</td>\n",
       "      <td>Lake</td>\n",
       "      <td>Public</td>\n",
       "      <td>1</td>\n",
       "      <td>1</td>\n",
       "      <td>1</td>\n",
       "      <td>1</td>\n",
       "      <td>1</td>\n",
       "      <td>1</td>\n",
       "    </tr>\n",
       "    <tr>\n",
       "      <th>5058</th>\n",
       "      <td>13897-07-14/17</td>\n",
       "      <td>M</td>\n",
       "      <td>Migori</td>\n",
       "      <td>210</td>\n",
       "      <td>Referred</td>\n",
       "      <td>OPD</td>\n",
       "      <td>2017-11-12</td>\n",
       "      <td>120/80</td>\n",
       "      <td>0.0</td>\n",
       "      <td>0.0</td>\n",
       "      <td>No</td>\n",
       "      <td>1900-01-01</td>\n",
       "      <td>Lake</td>\n",
       "      <td>Public</td>\n",
       "      <td>1</td>\n",
       "      <td>1</td>\n",
       "      <td>1</td>\n",
       "      <td>1</td>\n",
       "      <td>1</td>\n",
       "      <td>1</td>\n",
       "    </tr>\n",
       "    <tr>\n",
       "      <th>5365</th>\n",
       "      <td>14027-04-88/18</td>\n",
       "      <td>M</td>\n",
       "      <td>Kisumu</td>\n",
       "      <td>123</td>\n",
       "      <td>Referred</td>\n",
       "      <td>VCT Site</td>\n",
       "      <td>2018-01-25</td>\n",
       "      <td>112/68</td>\n",
       "      <td>65.0</td>\n",
       "      <td>168.0</td>\n",
       "      <td>No</td>\n",
       "      <td>1900-01-01</td>\n",
       "      <td>Lake</td>\n",
       "      <td>Public</td>\n",
       "      <td>1</td>\n",
       "      <td>1</td>\n",
       "      <td>1</td>\n",
       "      <td>1</td>\n",
       "      <td>1</td>\n",
       "      <td>1</td>\n",
       "    </tr>\n",
       "    <tr>\n",
       "      <th>5377</th>\n",
       "      <td>14027-04-99/18</td>\n",
       "      <td>M</td>\n",
       "      <td>Kisumu</td>\n",
       "      <td>544</td>\n",
       "      <td>Referred</td>\n",
       "      <td>VCT Site</td>\n",
       "      <td>2018-01-25</td>\n",
       "      <td>112/68</td>\n",
       "      <td>65.0</td>\n",
       "      <td>168.0</td>\n",
       "      <td>No</td>\n",
       "      <td>1900-01-01</td>\n",
       "      <td>Lake</td>\n",
       "      <td>Public</td>\n",
       "      <td>1</td>\n",
       "      <td>1</td>\n",
       "      <td>1</td>\n",
       "      <td>1</td>\n",
       "      <td>1</td>\n",
       "      <td>1</td>\n",
       "    </tr>\n",
       "    <tr>\n",
       "      <th>5526</th>\n",
       "      <td>14058-07-25/18</td>\n",
       "      <td>M</td>\n",
       "      <td>Migori</td>\n",
       "      <td>234</td>\n",
       "      <td>Referred</td>\n",
       "      <td>CCC</td>\n",
       "      <td>2017-08-28</td>\n",
       "      <td>172/82</td>\n",
       "      <td>66.0</td>\n",
       "      <td>173.0</td>\n",
       "      <td>No</td>\n",
       "      <td>1900-01-01</td>\n",
       "      <td>Lake</td>\n",
       "      <td>Public</td>\n",
       "      <td>1</td>\n",
       "      <td>1</td>\n",
       "      <td>1</td>\n",
       "      <td>1</td>\n",
       "      <td>1</td>\n",
       "      <td>1</td>\n",
       "    </tr>\n",
       "    <tr>\n",
       "      <th>5531</th>\n",
       "      <td>14058-07-3/18</td>\n",
       "      <td>F</td>\n",
       "      <td>Migori</td>\n",
       "      <td>136</td>\n",
       "      <td>Referred</td>\n",
       "      <td>OPD</td>\n",
       "      <td>2017-11-29</td>\n",
       "      <td>000/00</td>\n",
       "      <td>73.0</td>\n",
       "      <td>164.0</td>\n",
       "      <td>No</td>\n",
       "      <td>1900-01-01</td>\n",
       "      <td>Lake</td>\n",
       "      <td>Public</td>\n",
       "      <td>1</td>\n",
       "      <td>1</td>\n",
       "      <td>1</td>\n",
       "      <td>1</td>\n",
       "      <td>1</td>\n",
       "      <td>1</td>\n",
       "    </tr>\n",
       "    <tr>\n",
       "      <th>5628</th>\n",
       "      <td>14058/2018/07199</td>\n",
       "      <td>M</td>\n",
       "      <td>Migori</td>\n",
       "      <td>189</td>\n",
       "      <td>Referred</td>\n",
       "      <td>OPD</td>\n",
       "      <td>2018-07-31</td>\n",
       "      <td>118/80</td>\n",
       "      <td>62.0</td>\n",
       "      <td>172.0</td>\n",
       "      <td>No</td>\n",
       "      <td>1900-01-01</td>\n",
       "      <td>Lake</td>\n",
       "      <td>Public</td>\n",
       "      <td>1</td>\n",
       "      <td>1</td>\n",
       "      <td>1</td>\n",
       "      <td>1</td>\n",
       "      <td>1</td>\n",
       "      <td>1</td>\n",
       "    </tr>\n",
       "    <tr>\n",
       "      <th>5686</th>\n",
       "      <td>14069/2018/03020</td>\n",
       "      <td>M</td>\n",
       "      <td>Migori</td>\n",
       "      <td>176</td>\n",
       "      <td>Referred</td>\n",
       "      <td>OPD</td>\n",
       "      <td>2018-05-14</td>\n",
       "      <td>0</td>\n",
       "      <td>0.0</td>\n",
       "      <td>0.0</td>\n",
       "      <td>No</td>\n",
       "      <td>1900-01-01</td>\n",
       "      <td>Lake</td>\n",
       "      <td>Public</td>\n",
       "      <td>1</td>\n",
       "      <td>1</td>\n",
       "      <td>1</td>\n",
       "      <td>1</td>\n",
       "      <td>1</td>\n",
       "      <td>1</td>\n",
       "    </tr>\n",
       "    <tr>\n",
       "      <th>5734</th>\n",
       "      <td>14161-07-31/18</td>\n",
       "      <td>M</td>\n",
       "      <td>Migori</td>\n",
       "      <td>187</td>\n",
       "      <td>Referred</td>\n",
       "      <td>VCT Site</td>\n",
       "      <td>2018-03-21</td>\n",
       "      <td>140/70</td>\n",
       "      <td>47.0</td>\n",
       "      <td>160.0</td>\n",
       "      <td>No</td>\n",
       "      <td>1900-01-01</td>\n",
       "      <td>Lake</td>\n",
       "      <td>Public</td>\n",
       "      <td>1</td>\n",
       "      <td>1</td>\n",
       "      <td>1</td>\n",
       "      <td>1</td>\n",
       "      <td>1</td>\n",
       "      <td>1</td>\n",
       "    </tr>\n",
       "    <tr>\n",
       "      <th>5767</th>\n",
       "      <td>14161-07-7/18</td>\n",
       "      <td>M</td>\n",
       "      <td>Migori</td>\n",
       "      <td>175</td>\n",
       "      <td>Referred</td>\n",
       "      <td>VCT Site</td>\n",
       "      <td>2017-06-19</td>\n",
       "      <td>135/65</td>\n",
       "      <td>86.0</td>\n",
       "      <td>170.0</td>\n",
       "      <td>No</td>\n",
       "      <td>1900-01-01</td>\n",
       "      <td>Lake</td>\n",
       "      <td>Public</td>\n",
       "      <td>1</td>\n",
       "      <td>1</td>\n",
       "      <td>1</td>\n",
       "      <td>1</td>\n",
       "      <td>1</td>\n",
       "      <td>1</td>\n",
       "    </tr>\n",
       "    <tr>\n",
       "      <th>6534</th>\n",
       "      <td>17738-03-166/18</td>\n",
       "      <td>M</td>\n",
       "      <td>Migori</td>\n",
       "      <td>143</td>\n",
       "      <td>Referred</td>\n",
       "      <td>VCT Site</td>\n",
       "      <td>2018-06-13</td>\n",
       "      <td>158/89</td>\n",
       "      <td>79.0</td>\n",
       "      <td>142.0</td>\n",
       "      <td>No</td>\n",
       "      <td>1900-01-01</td>\n",
       "      <td>Lake</td>\n",
       "      <td>Private</td>\n",
       "      <td>1</td>\n",
       "      <td>1</td>\n",
       "      <td>1</td>\n",
       "      <td>1</td>\n",
       "      <td>1</td>\n",
       "      <td>1</td>\n",
       "    </tr>\n",
       "    <tr>\n",
       "      <th>6610</th>\n",
       "      <td>17738-03-49/17</td>\n",
       "      <td>M</td>\n",
       "      <td>Migori</td>\n",
       "      <td>343</td>\n",
       "      <td>Referred</td>\n",
       "      <td>OPD</td>\n",
       "      <td>2017-12-04</td>\n",
       "      <td>128/89</td>\n",
       "      <td>61.0</td>\n",
       "      <td>157.0</td>\n",
       "      <td>No</td>\n",
       "      <td>1900-01-01</td>\n",
       "      <td>Lake</td>\n",
       "      <td>Private</td>\n",
       "      <td>1</td>\n",
       "      <td>1</td>\n",
       "      <td>1</td>\n",
       "      <td>1</td>\n",
       "      <td>1</td>\n",
       "      <td>1</td>\n",
       "    </tr>\n",
       "    <tr>\n",
       "      <th>6736</th>\n",
       "      <td>17738/2018/03232</td>\n",
       "      <td>F</td>\n",
       "      <td>Migori</td>\n",
       "      <td>232</td>\n",
       "      <td>Referred</td>\n",
       "      <td>Peer</td>\n",
       "      <td>2018-08-13</td>\n",
       "      <td>100/72</td>\n",
       "      <td>64.0</td>\n",
       "      <td>124.0</td>\n",
       "      <td>No</td>\n",
       "      <td>2018-07-31</td>\n",
       "      <td>Lake</td>\n",
       "      <td>Private</td>\n",
       "      <td>1</td>\n",
       "      <td>1</td>\n",
       "      <td>1</td>\n",
       "      <td>1</td>\n",
       "      <td>1</td>\n",
       "      <td>1</td>\n",
       "    </tr>\n",
       "    <tr>\n",
       "      <th>11296</th>\n",
       "      <td>20206-03-420/18</td>\n",
       "      <td>F</td>\n",
       "      <td>Nairobi</td>\n",
       "      <td>254</td>\n",
       "      <td>Referred</td>\n",
       "      <td>Peer</td>\n",
       "      <td>2017-12-15</td>\n",
       "      <td>110/70</td>\n",
       "      <td>69.0</td>\n",
       "      <td>0.0</td>\n",
       "      <td>No</td>\n",
       "      <td>1900-01-01</td>\n",
       "      <td>Nairobi</td>\n",
       "      <td>Dice</td>\n",
       "      <td>1</td>\n",
       "      <td>1</td>\n",
       "      <td>1</td>\n",
       "      <td>1</td>\n",
       "      <td>1</td>\n",
       "      <td>1</td>\n",
       "    </tr>\n",
       "    <tr>\n",
       "      <th>13331</th>\n",
       "      <td>20437-02-321/17</td>\n",
       "      <td>M</td>\n",
       "      <td>Kisii</td>\n",
       "      <td>247</td>\n",
       "      <td>Referred</td>\n",
       "      <td>Outreach</td>\n",
       "      <td>2017-11-15</td>\n",
       "      <td>0</td>\n",
       "      <td>73.0</td>\n",
       "      <td>0.0</td>\n",
       "      <td>No</td>\n",
       "      <td>1900-01-01</td>\n",
       "      <td>Lake</td>\n",
       "      <td>Dice</td>\n",
       "      <td>1</td>\n",
       "      <td>1</td>\n",
       "      <td>1</td>\n",
       "      <td>1</td>\n",
       "      <td>1</td>\n",
       "      <td>1</td>\n",
       "    </tr>\n",
       "    <tr>\n",
       "      <th>14919</th>\n",
       "      <td>20437/2018/08035</td>\n",
       "      <td>F</td>\n",
       "      <td>Nyamira</td>\n",
       "      <td>176</td>\n",
       "      <td>Referred</td>\n",
       "      <td>Outreach</td>\n",
       "      <td>2018-08-20</td>\n",
       "      <td>120/79</td>\n",
       "      <td>69.0</td>\n",
       "      <td>156.0</td>\n",
       "      <td>No</td>\n",
       "      <td>2018-08-18</td>\n",
       "      <td>Lake</td>\n",
       "      <td>Dice</td>\n",
       "      <td>1</td>\n",
       "      <td>1</td>\n",
       "      <td>1</td>\n",
       "      <td>1</td>\n",
       "      <td>1</td>\n",
       "      <td>1</td>\n",
       "    </tr>\n",
       "    <tr>\n",
       "      <th>19244</th>\n",
       "      <td>22863-03-207/18</td>\n",
       "      <td>F</td>\n",
       "      <td>Nairobi</td>\n",
       "      <td>165</td>\n",
       "      <td>Referred</td>\n",
       "      <td>VCT Site</td>\n",
       "      <td>2018-02-23</td>\n",
       "      <td>120/60</td>\n",
       "      <td>58.0</td>\n",
       "      <td>154.0</td>\n",
       "      <td>No</td>\n",
       "      <td>1900-01-01</td>\n",
       "      <td>Nairobi</td>\n",
       "      <td>Dice</td>\n",
       "      <td>1</td>\n",
       "      <td>1</td>\n",
       "      <td>1</td>\n",
       "      <td>1</td>\n",
       "      <td>1</td>\n",
       "      <td>1</td>\n",
       "    </tr>\n",
       "  </tbody>\n",
       "</table>\n",
       "</div>"
      ],
      "text/plain": [
       "              clientsid Gender CountyOfBirth  Age EntryPoint  \\\n",
       "801      12893-07-27/17      M      Kakamega  255   Referred   \n",
       "1304     12956-03-48/18      M        Isiolo  288   Referred   \n",
       "3579   13468/2018/07136      M        Kisumu  386   Referred   \n",
       "3585   13468/2018/07142      M        Kisumu  143   Referred   \n",
       "3855   13492/2018/03177      M        Migori  233   Referred   \n",
       "4279   13745/2018/07074      M        Migori  177   Referred   \n",
       "4295    13805-03-109/18      M       Unknown  133   Referred   \n",
       "4749   13831/2018/07001      M       Unknown  154   Referred   \n",
       "4785   13831/2018/07037      F       Unknown  377   Referred   \n",
       "4829   13831/2018/07081      M       Unknown  217   Referred   \n",
       "5058     13897-07-14/17      M        Migori  210   Referred   \n",
       "5365     14027-04-88/18      M        Kisumu  123   Referred   \n",
       "5377     14027-04-99/18      M        Kisumu  544   Referred   \n",
       "5526     14058-07-25/18      M        Migori  234   Referred   \n",
       "5531      14058-07-3/18      F        Migori  136   Referred   \n",
       "5628   14058/2018/07199      M        Migori  189   Referred   \n",
       "5686   14069/2018/03020      M        Migori  176   Referred   \n",
       "5734     14161-07-31/18      M        Migori  187   Referred   \n",
       "5767      14161-07-7/18      M        Migori  175   Referred   \n",
       "6534    17738-03-166/18      M        Migori  143   Referred   \n",
       "6610     17738-03-49/17      M        Migori  343   Referred   \n",
       "6736   17738/2018/03232      F        Migori  232   Referred   \n",
       "11296   20206-03-420/18      F       Nairobi  254   Referred   \n",
       "13331   20437-02-321/17      M         Kisii  247   Referred   \n",
       "14919  20437/2018/08035      F       Nyamira  176   Referred   \n",
       "19244   22863-03-207/18      F       Nairobi  165   Referred   \n",
       "\n",
       "      ReferredOrTransferredFrom InitialVisitDate      BP  Weight_  Height  \\\n",
       "801                    VCT Site       2017-10-02   98/56     61.0     0.0   \n",
       "1304                   VCT Site       2018-06-26  000/00      0.0     0.0   \n",
       "3579                        CCC       2018-08-20  128/72     62.0   167.0   \n",
       "3585                        MCH       2018-12-03  112/70     62.0   156.0   \n",
       "3855                   VCT Site       2018-10-05       0      0.0     0.0   \n",
       "4279                   VCT Site       2018-12-04  133/89     60.0   161.0   \n",
       "4295                   VCT Site       2017-11-30       0      0.0     0.0   \n",
       "4749                        CCC       2018-04-05  138/87     75.0   175.0   \n",
       "4785                        CCC       2017-11-29       0     56.0   157.0   \n",
       "4829                        CCC       2017-11-29       0     56.0   157.0   \n",
       "5058                        OPD       2017-11-12  120/80      0.0     0.0   \n",
       "5365                   VCT Site       2018-01-25  112/68     65.0   168.0   \n",
       "5377                   VCT Site       2018-01-25  112/68     65.0   168.0   \n",
       "5526                        CCC       2017-08-28  172/82     66.0   173.0   \n",
       "5531                        OPD       2017-11-29  000/00     73.0   164.0   \n",
       "5628                        OPD       2018-07-31  118/80     62.0   172.0   \n",
       "5686                        OPD       2018-05-14       0      0.0     0.0   \n",
       "5734                   VCT Site       2018-03-21  140/70     47.0   160.0   \n",
       "5767                   VCT Site       2017-06-19  135/65     86.0   170.0   \n",
       "6534                   VCT Site       2018-06-13  158/89     79.0   142.0   \n",
       "6610                        OPD       2017-12-04  128/89     61.0   157.0   \n",
       "6736                       Peer       2018-08-13  100/72     64.0   124.0   \n",
       "11296                      Peer       2017-12-15  110/70     69.0     0.0   \n",
       "13331                  Outreach       2017-11-15       0     73.0     0.0   \n",
       "14919                  Outreach       2018-08-20  120/79     69.0   156.0   \n",
       "19244                  VCT Site       2018-02-23  120/60     58.0   154.0   \n",
       "\n",
       "      SignOfSti         Lmp  Cluster FacilityType  Received_DP  Refill1month  \\\n",
       "801          No  1900-01-01  Nairobi       Public            1             1   \n",
       "1304         No  1900-01-01  Nairobi         Dice            1             1   \n",
       "3579         No  1900-01-01     Lake       Public            1             1   \n",
       "3585         No  1900-01-01     Lake       Public            1             1   \n",
       "3855         No  1900-01-01     Lake       Public            1             1   \n",
       "4279         No  1900-01-01     Lake       Public            1             1   \n",
       "4295         No  1900-01-01     Lake       Public            1             1   \n",
       "4749         No  1900-01-01     Lake       Public            1             1   \n",
       "4785         No  1900-01-01     Lake       Public            1             1   \n",
       "4829         No  1900-01-01     Lake       Public            1             1   \n",
       "5058         No  1900-01-01     Lake       Public            1             1   \n",
       "5365         No  1900-01-01     Lake       Public            1             1   \n",
       "5377         No  1900-01-01     Lake       Public            1             1   \n",
       "5526         No  1900-01-01     Lake      Public             1             1   \n",
       "5531         No  1900-01-01     Lake      Public             1             1   \n",
       "5628         No  1900-01-01     Lake      Public             1             1   \n",
       "5686         No  1900-01-01     Lake       Public            1             1   \n",
       "5734         No  1900-01-01     Lake       Public            1             1   \n",
       "5767         No  1900-01-01     Lake       Public            1             1   \n",
       "6534         No  1900-01-01     Lake      Private            1             1   \n",
       "6610         No  1900-01-01     Lake      Private            1             1   \n",
       "6736         No  2018-07-31     Lake      Private            1             1   \n",
       "11296        No  1900-01-01  Nairobi         Dice            1             1   \n",
       "13331        No  1900-01-01     Lake         Dice            1             1   \n",
       "14919        No  2018-08-18     Lake         Dice            1             1   \n",
       "19244        No  1900-01-01  Nairobi         Dice            1             1   \n",
       "\n",
       "       Refill2months  Refill3months  Refill6months  received_counseling  \n",
       "801                1              1              1                    1  \n",
       "1304               1              1              1                    1  \n",
       "3579               1              1              1                    1  \n",
       "3585               1              1              1                    1  \n",
       "3855               1              1              1                    1  \n",
       "4279               1              1              1                    1  \n",
       "4295               1              1              1                    1  \n",
       "4749               1              1              1                    1  \n",
       "4785               1              1              1                    1  \n",
       "4829               1              1              1                    1  \n",
       "5058               1              1              1                    1  \n",
       "5365               1              1              1                    1  \n",
       "5377               1              1              1                    1  \n",
       "5526               1              1              1                    1  \n",
       "5531               1              1              1                    1  \n",
       "5628               1              1              1                    1  \n",
       "5686               1              1              1                    1  \n",
       "5734               1              1              1                    1  \n",
       "5767               1              1              1                    1  \n",
       "6534               1              1              1                    1  \n",
       "6610               1              1              1                    1  \n",
       "6736               1              1              1                    1  \n",
       "11296              1              1              1                    1  \n",
       "13331              1              1              1                    1  \n",
       "14919              1              1              1                    1  \n",
       "19244              1              1              1                    1  "
      ]
     },
     "execution_count": 20,
     "metadata": {},
     "output_type": "execute_result"
    }
   ],
   "source": [
    "error_in_age=data.loc[data['Age']>=100]\n",
    "error_in_age\n"
   ]
  },
  {
   "cell_type": "markdown",
   "id": "8c8ff9ec",
   "metadata": {},
   "source": [
    "data entry error in age variable "
   ]
  },
  {
   "cell_type": "code",
   "execution_count": 21,
   "id": "9d180888",
   "metadata": {},
   "outputs": [
    {
     "name": "stdout",
     "output_type": "stream",
     "text": [
      "0.11748226469657946 is the susbset with erroneous age values over 100 years\n"
     ]
    }
   ],
   "source": [
    "print((len(error_in_age)/len(data))*100,\"is the susbset with erroneous age values over 100 years\")"
   ]
  },
  {
   "cell_type": "code",
   "execution_count": 22,
   "id": "6e224661",
   "metadata": {},
   "outputs": [
    {
     "data": {
      "text/plain": [
       "<AxesSubplot:xlabel='Age'>"
      ]
     },
     "execution_count": 22,
     "metadata": {},
     "output_type": "execute_result"
    },
    {
     "data": {
      "image/png": "[encoded data removed]",
      "text/plain": [
       "<Figure size 432x288 with 1 Axes>"
      ]
     },
     "metadata": {
      "needs_background": "light"
     },
     "output_type": "display_data"
    }
   ],
   "source": [
    "sns.boxplot(x=data['Age'])"
   ]
  },
  {
   "cell_type": "markdown",
   "id": "25163327",
   "metadata": {},
   "source": [
    "# DATA CLEANING"
   ]
  },
  {
   "cell_type": "code",
   "execution_count": 23,
   "id": "7204f2c5",
   "metadata": {},
   "outputs": [
    {
     "data": {
      "text/html": [
       "<div>\n",
       "<style scoped>\n",
       "    .dataframe tbody tr th:only-of-type {\n",
       "        vertical-align: middle;\n",
       "    }\n",
       "\n",
       "    .dataframe tbody tr th {\n",
       "        vertical-align: top;\n",
       "    }\n",
       "\n",
       "    .dataframe thead th {\n",
       "        text-align: right;\n",
       "    }\n",
       "</style>\n",
       "<table border=\"1\" class=\"dataframe\">\n",
       "  <thead>\n",
       "    <tr style=\"text-align: right;\">\n",
       "      <th></th>\n",
       "      <th>count</th>\n",
       "      <th>mean</th>\n",
       "      <th>std</th>\n",
       "      <th>min</th>\n",
       "      <th>25%</th>\n",
       "      <th>50%</th>\n",
       "      <th>75%</th>\n",
       "      <th>max</th>\n",
       "    </tr>\n",
       "    <tr>\n",
       "      <th>Gender</th>\n",
       "      <th></th>\n",
       "      <th></th>\n",
       "      <th></th>\n",
       "      <th></th>\n",
       "      <th></th>\n",
       "      <th></th>\n",
       "      <th></th>\n",
       "      <th></th>\n",
       "    </tr>\n",
       "  </thead>\n",
       "  <tbody>\n",
       "    <tr>\n",
       "      <th>F</th>\n",
       "      <td>16309.0</td>\n",
       "      <td>26.915752</td>\n",
       "      <td>8.148578</td>\n",
       "      <td>15.0</td>\n",
       "      <td>22.0</td>\n",
       "      <td>25.0</td>\n",
       "      <td>31.0</td>\n",
       "      <td>377.0</td>\n",
       "    </tr>\n",
       "    <tr>\n",
       "      <th>M</th>\n",
       "      <td>5821.0</td>\n",
       "      <td>28.317299</td>\n",
       "      <td>15.599139</td>\n",
       "      <td>15.0</td>\n",
       "      <td>22.0</td>\n",
       "      <td>25.0</td>\n",
       "      <td>31.0</td>\n",
       "      <td>544.0</td>\n",
       "    </tr>\n",
       "    <tr>\n",
       "      <th>TG</th>\n",
       "      <td>1.0</td>\n",
       "      <td>36.000000</td>\n",
       "      <td>NaN</td>\n",
       "      <td>36.0</td>\n",
       "      <td>36.0</td>\n",
       "      <td>36.0</td>\n",
       "      <td>36.0</td>\n",
       "      <td>36.0</td>\n",
       "    </tr>\n",
       "  </tbody>\n",
       "</table>\n",
       "</div>"
      ],
      "text/plain": [
       "          count       mean        std   min   25%   50%   75%    max\n",
       "Gender                                                              \n",
       "F       16309.0  26.915752   8.148578  15.0  22.0  25.0  31.0  377.0\n",
       "M        5821.0  28.317299  15.599139  15.0  22.0  25.0  31.0  544.0\n",
       "TG          1.0  36.000000        NaN  36.0  36.0  36.0  36.0   36.0"
      ]
     },
     "execution_count": 23,
     "metadata": {},
     "output_type": "execute_result"
    }
   ],
   "source": [
    "data.groupby('Gender')['Age'].describe()"
   ]
  },
  {
   "cell_type": "code",
   "execution_count": 24,
   "id": "eed7cc5a",
   "metadata": {},
   "outputs": [],
   "source": [
    "#replace the outliers ages for males and females in the dataset with mean of ages of males and feamles respectively\n",
    "data.loc[(data['Age']>=100) & (data['Gender']=='F'),'Age']=26\n",
    "data.loc[(data['Age']>=100)&(data['Gender']=='M'),'Age']=28"
   ]
  },
  {
   "cell_type": "code",
   "execution_count": 25,
   "id": "1bce67dc",
   "metadata": {},
   "outputs": [
    {
     "data": {
      "text/plain": [
       "count    22131.000000\n",
       "mean        27.050698\n",
       "std          7.481802\n",
       "min         15.000000\n",
       "25%         22.000000\n",
       "50%         25.000000\n",
       "75%         31.000000\n",
       "max         68.000000\n",
       "Name: Age, dtype: float64"
      ]
     },
     "execution_count": 25,
     "metadata": {},
     "output_type": "execute_result"
    }
   ],
   "source": [
    "data['Age'].describe()"
   ]
  },
  {
   "cell_type": "code",
   "execution_count": 26,
   "id": "b2b3ff76",
   "metadata": {},
   "outputs": [
    {
     "data": {
      "text/plain": [
       "<AxesSubplot:xlabel='Age'>"
      ]
     },
     "execution_count": 26,
     "metadata": {},
     "output_type": "execute_result"
    },
    {
     "data": {
      "image/png": "[encoded data removed]",
      "text/plain": [
       "<Figure size 432x288 with 1 Axes>"
      ]
     },
     "metadata": {
      "needs_background": "light"
     },
     "output_type": "display_data"
    }
   ],
   "source": [
    "sns.boxplot(x=data.Age)"
   ]
  },
  {
   "cell_type": "code",
   "execution_count": 27,
   "id": "4f276339",
   "metadata": {},
   "outputs": [],
   "source": [
    "data1=data"
   ]
  },
  {
   "cell_type": "code",
   "execution_count": 28,
   "id": "5b0e3555",
   "metadata": {},
   "outputs": [],
   "source": [
    "data['FacilityType'].replace('DICE','dice',inplace=True)\n",
    "data['FacilityType'].replace('Public ','Public',inplace=True)"
   ]
  },
  {
   "cell_type": "code",
   "execution_count": 29,
   "id": "ba2b8721",
   "metadata": {},
   "outputs": [
    {
     "data": {
      "text/plain": [
       "array(['Dice', 'Private', 'Public', 'dice'], dtype=object)"
      ]
     },
     "execution_count": 29,
     "metadata": {},
     "output_type": "execute_result"
    }
   ],
   "source": [
    "np.unique(data['FacilityType'].values)"
   ]
  },
  {
   "cell_type": "code",
   "execution_count": 30,
   "id": "86c48a9a",
   "metadata": {},
   "outputs": [],
   "source": [
    "data['FacilityType'].replace('dice','Dice',inplace=True)"
   ]
  },
  {
   "cell_type": "code",
   "execution_count": 31,
   "id": "27320317",
   "metadata": {},
   "outputs": [
    {
     "data": {
      "text/plain": [
       "array(['Dice', 'Private', 'Public'], dtype=object)"
      ]
     },
     "execution_count": 31,
     "metadata": {},
     "output_type": "execute_result"
    }
   ],
   "source": [
    "np.unique(data['FacilityType'].values)"
   ]
  },
  {
   "cell_type": "markdown",
   "id": "d98a258b",
   "metadata": {},
   "source": [
    "# DATA ANALYSIS"
   ]
  },
  {
   "cell_type": "code",
   "execution_count": 32,
   "id": "c7358166",
   "metadata": {},
   "outputs": [
    {
     "data": {
      "text/plain": [
       "F     16309\n",
       "M      5821\n",
       "TG        1\n",
       "Name: Gender, dtype: int64"
      ]
     },
     "execution_count": 32,
     "metadata": {},
     "output_type": "execute_result"
    }
   ],
   "source": [
    "#distribution of gender \n",
    "data['Gender'].value_counts()"
   ]
  },
  {
   "cell_type": "code",
   "execution_count": 33,
   "id": "a04d7a66",
   "metadata": {},
   "outputs": [
    {
     "data": {
      "text/plain": [
       "F     73.693010\n",
       "M     26.302472\n",
       "TG     0.004519\n",
       "Name: Gender, dtype: float64"
      ]
     },
     "execution_count": 33,
     "metadata": {},
     "output_type": "execute_result"
    }
   ],
   "source": [
    "#percentage of distribution of gender\n",
    "data['Gender'].value_counts(normalize=True)*100"
   ]
  },
  {
   "cell_type": "code",
   "execution_count": 34,
   "id": "02b544c1",
   "metadata": {
    "scrolled": true
   },
   "outputs": [
    {
     "data": {
      "text/html": [
       "<div>\n",
       "<style scoped>\n",
       "    .dataframe tbody tr th:only-of-type {\n",
       "        vertical-align: middle;\n",
       "    }\n",
       "\n",
       "    .dataframe tbody tr th {\n",
       "        vertical-align: top;\n",
       "    }\n",
       "\n",
       "    .dataframe thead th {\n",
       "        text-align: right;\n",
       "    }\n",
       "</style>\n",
       "<table border=\"1\" class=\"dataframe\">\n",
       "  <thead>\n",
       "    <tr style=\"text-align: right;\">\n",
       "      <th>CountyOfBirth</th>\n",
       "      <th>Baringo</th>\n",
       "      <th>Bomet</th>\n",
       "      <th>Bungoma</th>\n",
       "      <th>Busia</th>\n",
       "      <th>Elgeyo Marakwet</th>\n",
       "      <th>Embu</th>\n",
       "      <th>Garissa</th>\n",
       "      <th>Homa Bay</th>\n",
       "      <th>Isiolo</th>\n",
       "      <th>Kajiado</th>\n",
       "      <th>...</th>\n",
       "      <th>Taita Taveta</th>\n",
       "      <th>Tana River</th>\n",
       "      <th>Tharaka Nithi</th>\n",
       "      <th>Trans Nzoia</th>\n",
       "      <th>Turkana</th>\n",
       "      <th>Uasin Gishu</th>\n",
       "      <th>Unknown</th>\n",
       "      <th>Vihiga</th>\n",
       "      <th>Wajir</th>\n",
       "      <th>West Pokot</th>\n",
       "    </tr>\n",
       "    <tr>\n",
       "      <th>Gender</th>\n",
       "      <th></th>\n",
       "      <th></th>\n",
       "      <th></th>\n",
       "      <th></th>\n",
       "      <th></th>\n",
       "      <th></th>\n",
       "      <th></th>\n",
       "      <th></th>\n",
       "      <th></th>\n",
       "      <th></th>\n",
       "      <th></th>\n",
       "      <th></th>\n",
       "      <th></th>\n",
       "      <th></th>\n",
       "      <th></th>\n",
       "      <th></th>\n",
       "      <th></th>\n",
       "      <th></th>\n",
       "      <th></th>\n",
       "      <th></th>\n",
       "      <th></th>\n",
       "    </tr>\n",
       "  </thead>\n",
       "  <tbody>\n",
       "    <tr>\n",
       "      <th>F</th>\n",
       "      <td>15</td>\n",
       "      <td>23</td>\n",
       "      <td>144</td>\n",
       "      <td>132</td>\n",
       "      <td>13</td>\n",
       "      <td>80</td>\n",
       "      <td>9</td>\n",
       "      <td>491</td>\n",
       "      <td>5</td>\n",
       "      <td>28</td>\n",
       "      <td>...</td>\n",
       "      <td>260</td>\n",
       "      <td>6</td>\n",
       "      <td>4</td>\n",
       "      <td>29</td>\n",
       "      <td>1</td>\n",
       "      <td>33</td>\n",
       "      <td>2551</td>\n",
       "      <td>121</td>\n",
       "      <td>3</td>\n",
       "      <td>2</td>\n",
       "    </tr>\n",
       "    <tr>\n",
       "      <th>M</th>\n",
       "      <td>11</td>\n",
       "      <td>13</td>\n",
       "      <td>101</td>\n",
       "      <td>97</td>\n",
       "      <td>9</td>\n",
       "      <td>43</td>\n",
       "      <td>3</td>\n",
       "      <td>152</td>\n",
       "      <td>6</td>\n",
       "      <td>19</td>\n",
       "      <td>...</td>\n",
       "      <td>18</td>\n",
       "      <td>2</td>\n",
       "      <td>2</td>\n",
       "      <td>18</td>\n",
       "      <td>3</td>\n",
       "      <td>14</td>\n",
       "      <td>570</td>\n",
       "      <td>74</td>\n",
       "      <td>1</td>\n",
       "      <td>0</td>\n",
       "    </tr>\n",
       "    <tr>\n",
       "      <th>TG</th>\n",
       "      <td>0</td>\n",
       "      <td>0</td>\n",
       "      <td>0</td>\n",
       "      <td>0</td>\n",
       "      <td>0</td>\n",
       "      <td>0</td>\n",
       "      <td>0</td>\n",
       "      <td>0</td>\n",
       "      <td>0</td>\n",
       "      <td>0</td>\n",
       "      <td>...</td>\n",
       "      <td>0</td>\n",
       "      <td>0</td>\n",
       "      <td>0</td>\n",
       "      <td>0</td>\n",
       "      <td>0</td>\n",
       "      <td>0</td>\n",
       "      <td>0</td>\n",
       "      <td>0</td>\n",
       "      <td>0</td>\n",
       "      <td>0</td>\n",
       "    </tr>\n",
       "  </tbody>\n",
       "</table>\n",
       "<p>3 rows × 48 columns</p>\n",
       "</div>"
      ],
      "text/plain": [
       "CountyOfBirth  Baringo  Bomet  Bungoma  Busia  Elgeyo Marakwet  Embu  Garissa  \\\n",
       "Gender                                                                          \n",
       "F                   15     23      144    132               13    80        9   \n",
       "M                   11     13      101     97                9    43        3   \n",
       "TG                   0      0        0      0                0     0        0   \n",
       "\n",
       "CountyOfBirth  Homa Bay  Isiolo  Kajiado  ...  Taita Taveta  Tana River  \\\n",
       "Gender                                    ...                             \n",
       "F                   491       5       28  ...           260           6   \n",
       "M                   152       6       19  ...            18           2   \n",
       "TG                    0       0        0  ...             0           0   \n",
       "\n",
       "CountyOfBirth  Tharaka Nithi  Trans Nzoia  Turkana  Uasin Gishu  Unknown  \\\n",
       "Gender                                                                     \n",
       "F                          4           29        1           33     2551   \n",
       "M                          2           18        3           14      570   \n",
       "TG                         0            0        0            0        0   \n",
       "\n",
       "CountyOfBirth  Vihiga  Wajir  West Pokot  \n",
       "Gender                                    \n",
       "F                 121      3           2  \n",
       "M                  74      1           0  \n",
       "TG                  0      0           0  \n",
       "\n",
       "[3 rows x 48 columns]"
      ]
     },
     "execution_count": 34,
     "metadata": {},
     "output_type": "execute_result"
    }
   ],
   "source": [
    "# gender distribution by county\n",
    "pd.crosstab(data['Gender'],data['CountyOfBirth'])"
   ]
  },
  {
   "cell_type": "code",
   "execution_count": 35,
   "id": "f312c717",
   "metadata": {},
   "outputs": [],
   "source": [
    "gender_county=pd.crosstab(data['Gender'],data['CountyOfBirth'])\n",
    "excel_path=(\"C:\\\\Users\\\\acer\\\\Downloads\\\\gender_by_county.xlsx\")\n",
    "gender_county.to_excel(excel_path)"
   ]
  },
  {
   "cell_type": "code",
   "execution_count": 36,
   "id": "84cf7858",
   "metadata": {},
   "outputs": [],
   "source": [
    "import matplotlib.pyplot as plt\n"
   ]
  },
  {
   "cell_type": "code",
   "execution_count": 37,
   "id": "54f6ae31",
   "metadata": {},
   "outputs": [
    {
     "data": {
      "text/plain": [
       "<Figure size 720x432 with 0 Axes>"
      ]
     },
     "metadata": {},
     "output_type": "display_data"
    },
    {
     "data": {
      "image/png": "[encoded data removed]",
      "text/plain": [
       "<Figure size 2929.75x576 with 1 Axes>"
      ]
     },
     "metadata": {
      "needs_background": "light"
     },
     "output_type": "display_data"
    }
   ],
   "source": [
    "plt.figure(figsize=(10,6))\n",
    "sns.displot(data,x='CountyOfBirth',hue='Gender',multiple='dodge',height=8,aspect=5)\n",
    "plt.show()"
   ]
  },
  {
   "cell_type": "code",
   "execution_count": 38,
   "id": "89e5e008",
   "metadata": {},
   "outputs": [
    {
     "data": {
      "text/plain": [
       "<seaborn.axisgrid.FacetGrid at 0x1df9c9a6040>"
      ]
     },
     "execution_count": 38,
     "metadata": {},
     "output_type": "execute_result"
    },
    {
     "data": {
      "image/png": "[encoded data removed]",
      "text/plain": [
       "<Figure size 2929.75x576 with 1 Axes>"
      ]
     },
     "metadata": {
      "needs_background": "light"
     },
     "output_type": "display_data"
    }
   ],
   "source": [
    "sns.displot(data,x='Cluster',hue='Gender',multiple='dodge',height=8,aspect=5)"
   ]
  },
  {
   "cell_type": "code",
   "execution_count": 39,
   "id": "3eb5eef7",
   "metadata": {},
   "outputs": [
    {
     "data": {
      "text/plain": [
       "<seaborn.axisgrid.FacetGrid at 0x1df9c0c0f70>"
      ]
     },
     "execution_count": 39,
     "metadata": {},
     "output_type": "execute_result"
    },
    {
     "data": {
      "image/png": "[encoded data removed]",
      "text/plain": [
       "<Figure size 409.75x360 with 1 Axes>"
      ]
     },
     "metadata": {
      "needs_background": "light"
     },
     "output_type": "display_data"
    }
   ],
   "source": [
    "sns.catplot(data=data, y=\"Cluster\", hue=\"Gender\", kind=\"count\",palette=\"pastel\", edgecolor=\".6\")"
   ]
  },
  {
   "cell_type": "code",
   "execution_count": 41,
   "id": "7e3dabcd",
   "metadata": {},
   "outputs": [
    {
     "data": {
      "image/png": "[encoded data removed]",
      "text/plain": [
       "<Figure size 864x288 with 4 Axes>"
      ]
     },
     "metadata": {
      "needs_background": "light"
     },
     "output_type": "display_data"
    }
   ],
   "source": [
    "_, axes = plt.subplots(nrows=1, ncols=4, figsize=(12, 4))\n",
    "sns.countplot(x=\"Refill1month\",hue='Gender', data=data, ax=axes[0])\n",
    "sns.countplot(x=\"Refill2months\",hue='Gender',data=data, ax=axes[1])\n",
    "sns.countplot(x=\"Refill3months\",hue='Gender',data=data, ax=axes[2])\n",
    "sns.countplot(x=\"Refill6months\",hue='Gender',data=data, ax=axes[3]);"
   ]
  },
  {
   "cell_type": "code",
   "execution_count": 42,
   "id": "a27c6c4a",
   "metadata": {},
   "outputs": [
    {
     "data": {
      "text/plain": [
       "0    11592\n",
       "1    10539\n",
       "Name: Refill1month, dtype: int64"
      ]
     },
     "execution_count": 42,
     "metadata": {},
     "output_type": "execute_result"
    }
   ],
   "source": [
    "data['Refill1month'].value_counts()"
   ]
  },
  {
   "cell_type": "code",
   "execution_count": 43,
   "id": "c99a015d",
   "metadata": {},
   "outputs": [
    {
     "data": {
      "text/plain": [
       "0    16026\n",
       "1     6105\n",
       "Name: Refill2months, dtype: int64"
      ]
     },
     "execution_count": 43,
     "metadata": {},
     "output_type": "execute_result"
    }
   ],
   "source": [
    "data['Refill2months'].value_counts()"
   ]
  },
  {
   "cell_type": "code",
   "execution_count": 44,
   "id": "499fdbe1",
   "metadata": {},
   "outputs": [
    {
     "data": {
      "text/plain": [
       "0    18173\n",
       "1     3958\n",
       "Name: Refill3months, dtype: int64"
      ]
     },
     "execution_count": 44,
     "metadata": {},
     "output_type": "execute_result"
    }
   ],
   "source": [
    "data['Refill3months'].value_counts()"
   ]
  },
  {
   "cell_type": "code",
   "execution_count": 45,
   "id": "4dddea24",
   "metadata": {},
   "outputs": [
    {
     "data": {
      "text/plain": [
       "0    20672\n",
       "1     1459\n",
       "Name: Refill6months, dtype: int64"
      ]
     },
     "execution_count": 45,
     "metadata": {},
     "output_type": "execute_result"
    }
   ],
   "source": [
    "data['Refill6months'].value_counts()"
   ]
  },
  {
   "cell_type": "code",
   "execution_count": 46,
   "id": "92aa8356",
   "metadata": {},
   "outputs": [],
   "source": [
    "#data[(data['Refill1month']==1) & (data['Refill2months']==1) & (data['Refill3months']==1) & (data['Refill6months']==1)].value_counts()"
   ]
  },
  {
   "cell_type": "code",
   "execution_count": 47,
   "id": "226c091b",
   "metadata": {},
   "outputs": [
    {
     "data": {
      "text/plain": [
       "F    1073\n",
       "M     386\n",
       "Name: Gender, dtype: int64"
      ]
     },
     "execution_count": 47,
     "metadata": {},
     "output_type": "execute_result"
    }
   ],
   "source": [
    "# total number of persons who consistently refilled their drugs \n",
    "data[(data['Refill1month']==1) & (data['Refill2months']==1) & (data['Refill3months']==1) & (data['Refill6months']==1)]['Gender'].value_counts()"
   ]
  },
  {
   "cell_type": "code",
   "execution_count": 48,
   "id": "95f0a6c1",
   "metadata": {},
   "outputs": [
    {
     "name": "stdout",
     "output_type": "stream",
     "text": [
      "the percent of women who consistently refilled their drugs 6.579189404623214\n",
      "the percent of men who consistently refilled their drugs 6.631163030407146\n"
     ]
    }
   ],
   "source": [
    "print('the percent of women who consistently refilled their drugs',1073/16309*100)\n",
    "print('the percent of men who consistently refilled their drugs',386/5821*100)"
   ]
  },
  {
   "cell_type": "markdown",
   "id": "be8ea792",
   "metadata": {},
   "source": [
    "For every 15 men enrolled in the program 1 man consistently refill their drugs to the entirity of the program.\n",
    "For every 15 women enrolled in the program 1 woman consistently refill their drugs to the entirity of the program."
   ]
  },
  {
   "cell_type": "code",
   "execution_count": 49,
   "id": "5a1992cc",
   "metadata": {},
   "outputs": [
    {
     "data": {
      "text/plain": [
       "Kisii              289\n",
       "Kisumu             179\n",
       "Mombasa            175\n",
       "Unknown            143\n",
       "Nairobi            108\n",
       "Migori              88\n",
       "Kilifi              86\n",
       "Homa Bay            55\n",
       "Machakos            47\n",
       "Kiambu              45\n",
       "Taita Taveta        23\n",
       "Kwale               22\n",
       "Kakamega            21\n",
       "Bungoma             20\n",
       "Muranga             20\n",
       "Nyamira             17\n",
       "Siaya               14\n",
       "Makueni             14\n",
       "Busia               13\n",
       "Nyeri               10\n",
       "Meru                 9\n",
       "Vihiga               9\n",
       "Kitui                7\n",
       "Nakuru               7\n",
       "Nyandarua            5\n",
       "Kirinyaga            5\n",
       "Trans Nzoia          4\n",
       "Kajiado              3\n",
       "Embu                 3\n",
       "Nandi                3\n",
       "Kericho              2\n",
       "Isiolo               2\n",
       "Baringo              2\n",
       "Mandera              2\n",
       "Uasin Gishu          2\n",
       "Lamu                 1\n",
       "Narok                1\n",
       "Laikipia             1\n",
       "Marsabit             1\n",
       "Elgeyo Marakwet      1\n",
       "Name: CountyOfBirth, dtype: int64"
      ]
     },
     "execution_count": 49,
     "metadata": {},
     "output_type": "execute_result"
    }
   ],
   "source": [
    "data[(data['Refill1month']==1) & (data['Refill2months']==1) & (data['Refill3months']==1) & (data['Refill6months']==1)]['CountyOfBirth'].value_counts()"
   ]
  },
  {
   "cell_type": "code",
   "execution_count": 50,
   "id": "95088c5d",
   "metadata": {},
   "outputs": [
    {
     "data": {
      "image/png": "[encoded data removed]",
      "text/plain": [
       "<Figure size 720x432 with 1 Axes>"
      ]
     },
     "metadata": {
      "needs_background": "light"
     },
     "output_type": "display_data"
    }
   ],
   "source": [
    "# number of persons who continuously refilled their drugs\n",
    "filtered_data = data[(data['Refill1month'] == 1) & (data['Refill2months'] == 1) & (data['Refill3months'] == 1) & (data['Refill6months'] == 1)]\n",
    "\n",
    "# Plot the value counts of 'CountyOfBirth'\n",
    "plt.figure(figsize=(10, 6))\n",
    "filtered_data['CountyOfBirth'].value_counts().plot(kind='bar')\n",
    "plt.xlabel('County of Birth')\n",
    "plt.ylabel('Count')\n",
    "plt.title('Number of persons continuously refilled their drugs')\n",
    "plt.show()"
   ]
  },
  {
   "cell_type": "code",
   "execution_count": 51,
   "id": "57ab584f",
   "metadata": {},
   "outputs": [
    {
     "data": {
      "image/png": "[encoded data removed]",
      "text/plain": [
       "<Figure size 720x432 with 1 Axes>"
      ]
     },
     "metadata": {
      "needs_background": "light"
     },
     "output_type": "display_data"
    }
   ],
   "source": [
    "# distribution of first time pick up of drugs across county of birth\n",
    "recruited_pt=data[data['Received_DP']==1]\n",
    "plt.figure(figsize=(10, 6)) \n",
    "recruited_pt['CountyOfBirth'].value_counts().plot(kind='bar')\n",
    "plt.xlabel('County of Birth')\n",
    "plt.ylabel('Count')\n",
    "plt.title('Number of persons who got their first time DG drug')\n",
    "plt.show()"
   ]
  },
  {
   "cell_type": "code",
   "execution_count": 52,
   "id": "b6e827bc",
   "metadata": {},
   "outputs": [
    {
     "data": {
      "text/html": [
       "<div>\n",
       "<style scoped>\n",
       "    .dataframe tbody tr th:only-of-type {\n",
       "        vertical-align: middle;\n",
       "    }\n",
       "\n",
       "    .dataframe tbody tr th {\n",
       "        vertical-align: top;\n",
       "    }\n",
       "\n",
       "    .dataframe thead th {\n",
       "        text-align: right;\n",
       "    }\n",
       "</style>\n",
       "<table border=\"1\" class=\"dataframe\">\n",
       "  <thead>\n",
       "    <tr style=\"text-align: right;\">\n",
       "      <th>Received_DP</th>\n",
       "      <th>1</th>\n",
       "    </tr>\n",
       "    <tr>\n",
       "      <th>FacilityType</th>\n",
       "      <th></th>\n",
       "    </tr>\n",
       "  </thead>\n",
       "  <tbody>\n",
       "    <tr>\n",
       "      <th>Dice</th>\n",
       "      <td>15477</td>\n",
       "    </tr>\n",
       "    <tr>\n",
       "      <th>Private</th>\n",
       "      <td>1085</td>\n",
       "    </tr>\n",
       "    <tr>\n",
       "      <th>Public</th>\n",
       "      <td>5569</td>\n",
       "    </tr>\n",
       "  </tbody>\n",
       "</table>\n",
       "</div>"
      ],
      "text/plain": [
       "Received_DP       1\n",
       "FacilityType       \n",
       "Dice          15477\n",
       "Private        1085\n",
       "Public         5569"
      ]
     },
     "execution_count": 52,
     "metadata": {},
     "output_type": "execute_result"
    }
   ],
   "source": [
    "pd.crosstab(data['FacilityType'],data['Received_DP'])"
   ]
  },
  {
   "cell_type": "code",
   "execution_count": 53,
   "id": "8bbe0f1d",
   "metadata": {},
   "outputs": [
    {
     "data": {
      "text/plain": [
       "Dice       1037\n",
       "Public      377\n",
       "Private      45\n",
       "Name: FacilityType, dtype: int64"
      ]
     },
     "execution_count": 53,
     "metadata": {},
     "output_type": "execute_result"
    }
   ],
   "source": [
    "filtered_data['FacilityType'].value_counts()"
   ]
  },
  {
   "cell_type": "markdown",
   "id": "caae7dbf",
   "metadata": {},
   "source": [
    "For every 24 persons enrolled in the program in facility type private 1 patient refills their drugs consistetly.\n",
    "For every 15 persons enrolled in the program in facility type dice 1 patient refills their drugs consistetly.\n",
    "For every 15 persons enrolled in the program in facility type public 1 patient refills their drugs consistetly."
   ]
  },
  {
   "cell_type": "code",
   "execution_count": 54,
   "id": "f0c36891",
   "metadata": {},
   "outputs": [
    {
     "data": {
      "text/html": [
       "<div>\n",
       "<style scoped>\n",
       "    .dataframe tbody tr th:only-of-type {\n",
       "        vertical-align: middle;\n",
       "    }\n",
       "\n",
       "    .dataframe tbody tr th {\n",
       "        vertical-align: top;\n",
       "    }\n",
       "\n",
       "    .dataframe thead th {\n",
       "        text-align: right;\n",
       "    }\n",
       "</style>\n",
       "<table border=\"1\" class=\"dataframe\">\n",
       "  <thead>\n",
       "    <tr style=\"text-align: right;\">\n",
       "      <th>Received_DP</th>\n",
       "      <th>1</th>\n",
       "    </tr>\n",
       "    <tr>\n",
       "      <th>received_counseling</th>\n",
       "      <th></th>\n",
       "    </tr>\n",
       "  </thead>\n",
       "  <tbody>\n",
       "    <tr>\n",
       "      <th>0</th>\n",
       "      <td>10600</td>\n",
       "    </tr>\n",
       "    <tr>\n",
       "      <th>1</th>\n",
       "      <td>11531</td>\n",
       "    </tr>\n",
       "  </tbody>\n",
       "</table>\n",
       "</div>"
      ],
      "text/plain": [
       "Received_DP              1\n",
       "received_counseling       \n",
       "0                    10600\n",
       "1                    11531"
      ]
     },
     "execution_count": 54,
     "metadata": {},
     "output_type": "execute_result"
    }
   ],
   "source": [
    "pd.crosstab(data['received_counseling'],data['Received_DP'])"
   ]
  },
  {
   "cell_type": "code",
   "execution_count": 55,
   "id": "cc686c43",
   "metadata": {},
   "outputs": [
    {
     "data": {
      "text/plain": [
       "1    1312\n",
       "0     147\n",
       "Name: received_counseling, dtype: int64"
      ]
     },
     "execution_count": 55,
     "metadata": {},
     "output_type": "execute_result"
    }
   ],
   "source": [
    "filtered_data['received_counseling'].value_counts()"
   ]
  },
  {
   "cell_type": "markdown",
   "id": "583de071",
   "metadata": {},
   "source": [
    "Only 1% of individuals who did not receive counselling consistently refill their drugs.\n",
    "11% of individuals who received counselling consistently refill their drugs. \n",
    "89.9% of individuals who consistently refilled their drugs received counselling as compared to 52.1% of individuals who received counselling in the first administration.\n",
    "\n",
    "\n"
   ]
  },
  {
   "cell_type": "code",
   "execution_count": 56,
   "id": "3078a78d",
   "metadata": {},
   "outputs": [
    {
     "data": {
      "text/plain": [
       "Index(['clientsid', 'Gender', 'CountyOfBirth', 'Age', 'EntryPoint',\n",
       "       'ReferredOrTransferredFrom', 'InitialVisitDate', 'BP', 'Weight_',\n",
       "       'Height', 'SignOfSti', 'Lmp', 'Cluster', 'FacilityType', 'Received_DP',\n",
       "       'Refill1month', 'Refill2months', 'Refill3months', 'Refill6months',\n",
       "       'received_counseling'],\n",
       "      dtype='object')"
      ]
     },
     "execution_count": 56,
     "metadata": {},
     "output_type": "execute_result"
    }
   ],
   "source": [
    "data.columns"
   ]
  },
  {
   "cell_type": "code",
   "execution_count": 57,
   "id": "2adce215",
   "metadata": {},
   "outputs": [],
   "source": [
    "from scipy import stats"
   ]
  },
  {
   "cell_type": "code",
   "execution_count": 58,
   "id": "fbc55f2b",
   "metadata": {},
   "outputs": [],
   "source": [
    "# Extract the columns you want to analyze\n",
    "columns_to_analyze = ['received_counseling', 'Refill6months']\n",
    "\n",
    "# Create DataFrames for the two groups\n",
    "first_administration = data[columns_to_analyze]\n",
    "continuous_participants = filtered_data[columns_to_analyze]"
   ]
  },
  {
   "cell_type": "code",
   "execution_count": 59,
   "id": "d6997231",
   "metadata": {},
   "outputs": [
    {
     "data": {
      "text/plain": [
       "received_counseling    int64\n",
       "Refill6months          int64\n",
       "dtype: object"
      ]
     },
     "execution_count": 59,
     "metadata": {},
     "output_type": "execute_result"
    }
   ],
   "source": [
    "first_administration.dtypes\n"
   ]
  },
  {
   "cell_type": "code",
   "execution_count": 60,
   "id": "53ae8107",
   "metadata": {},
   "outputs": [
    {
     "data": {
      "text/plain": [
       "received_counseling    int64\n",
       "Refill6months          int64\n",
       "dtype: object"
      ]
     },
     "execution_count": 60,
     "metadata": {},
     "output_type": "execute_result"
    }
   ],
   "source": [
    "continuous_participants.dtypes"
   ]
  },
  {
   "cell_type": "code",
   "execution_count": 62,
   "id": "26b468f7",
   "metadata": {},
   "outputs": [],
   "source": [
    "# test for significant statistical difference between participants who recieved counsel and those who did not in refilling their drugs consistently.\n",
    "# Null hypothesis; there is no impact of counseling in consistent refill of DP pills among participants\n",
    "# Alternative hypothesis; there is imoact of counseling in consistent refill of DP pills among participants\n",
    "import scipy.stats.distributions as dist\n",
    "\n",
    "def z_test(x1,x2,n1,n2,two_tailed=True):\n",
    "    avg_p=(x1+x2)/(n1+n2)\n",
    "    z_val=(x1/n1-x2/n2)/np.sqrt(avg_p*(1-avg_p)*(1/n1 + 1/n2))\n",
    "    z_prob= dist.norm.cdf(-np.abs(z_val))\n",
    "    \n",
    "    if two_tailed:\n",
    "        return z_val,2*z_prob\n",
    "    else:\n",
    "        return z_val,z_prob"
   ]
  },
  {
   "cell_type": "code",
   "execution_count": 63,
   "id": "97c7c02e",
   "metadata": {},
   "outputs": [
    {
     "data": {
      "text/plain": [
       "(-28.133293931762307, 3.8369888460968653e-174)"
      ]
     },
     "execution_count": 63,
     "metadata": {},
     "output_type": "execute_result"
    }
   ],
   "source": [
    "z_test(11531,1312,22131,1458,two_tailed=True)"
   ]
  },
  {
   "cell_type": "code",
   "execution_count": 65,
   "id": "55cf5772",
   "metadata": {},
   "outputs": [
    {
     "name": "stdout",
     "output_type": "stream",
     "text": [
      "Chi-squared statistic: 893.6897646376335\n",
      "p-value: 2.309911851063071e-196\n"
     ]
    }
   ],
   "source": [
    "from scipy.stats import chi2_contingency\n",
    "\n",
    "contingency_table = [[1312, 10219],\n",
    "                     [147, 10453]]\n",
    "\n",
    "chi2, p, _, _ = chi2_contingency(contingency_table)\n",
    "print(\"Chi-squared statistic:\", chi2)\n",
    "print(\"p-value:\", p)"
   ]
  },
  {
   "cell_type": "markdown",
   "id": "78bcc24b",
   "metadata": {},
   "source": [
    "the p value  is less than 0.05 thus we can reject the null hypothesis and conclude that counseling has impact on refilling pills."
   ]
  },
  {
   "cell_type": "markdown",
   "id": "5be02bb4",
   "metadata": {},
   "source": [
    "We conclude that the is a significant difference between the participants who received counseling and those who did not in refilling DP consistently. Therefore , counseling had a huge imoact in DP refills by participants."
   ]
  },
  {
   "cell_type": "markdown",
   "id": "68e52820",
   "metadata": {},
   "source": [
    "# RECOMMENDATION"
   ]
  },
  {
   "cell_type": "markdown",
   "id": "b47ec8c3",
   "metadata": {},
   "source": [
    "Based on the analysis, the JHG should encourage the population to attend counseling to dispel misconceptions, myths and misinformation. In addition educate them on the importance, effectiveness of the DG drug for sexual reproductive health. Given that counseling is an engaging activity between professionals and the target population other strategies may complement this such as practical management tools (e.g reminders). "
   ]
  },
  {
   "cell_type": "markdown",
   "id": "362c4da6",
   "metadata": {},
   "source": [
    "# EVALUATING INTERVENTIONS"
   ]
  },
  {
   "cell_type": "markdown",
   "id": "a8695827",
   "metadata": {},
   "source": [
    "HG decides to implement the intervention/improvement you suggested (i.e., from your answer in d on the previous slide). After one year, you see that the number of patients receiving DP has increased by 25% while those continuously refilling DP every month has increased by 30%.\n",
    "\n",
    "Can you say that the intervention/improvement caused the increase in DP use by 25% and continuous use by 30%? Explain why or why not. \n",
    "\n",
    "The difference observed after intervention is as a result of the intervention. There was increase in use of DP and continuous use after the intervention. After comparison between the first phase without the intervention and second phase after intervention.\n",
    "\n",
    "\n",
    "Can you tell us what would be a better way (if at all) to assess the effectiveness of your intervention? \n",
    "\n",
    "Use a randomised control trial research design. Through which I will split the sample in a treatment group and contol group. the treatment group will receive the recommended intreventions while the control group will not through a period of 6 months. The data collected will then be analysed using analysis of variance to assess the effectiveness of the treatment, which are the interventions recommended.\n"
   ]
  }
 ],
 "metadata": {
  "kernelspec": {
   "display_name": "Python 3 (ipykernel)",
   "language": "python",
   "name": "python3"
  },
  "language_info": {
   "codemirror_mode": {
    "name": "ipython",
    "version": 3
   },
   "file_extension": ".py",
   "mimetype": "text/x-python",
   "name": "python",
   "nbconvert_exporter": "python",
   "pygments_lexer": "ipython3",
   "version": "3.9.12"
  }
 },
 "nbformat": 4,
 "nbformat_minor": 5
}
